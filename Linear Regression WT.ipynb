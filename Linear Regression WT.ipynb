#Importing the library
import pandas as pd
import matplotlib.pyplot as plt
import numpy as np
from sklearn import datasets, linear_model
from sklearn.metrics import mean_squared_error, r2_score
from sklearn.model_selection import train_test_split
from sklearn.linear_model import LinearRegression
from matplotlib import pyplot
from numpy import set_printoptions
from sklearn.preprocessing import StandardScaler

#Loading the dataset
data=pd.read_csv("weather-trends.csv")
print(data)

#It will drop any column with more than 50% missing value
hc=len(data)/2
data=data.dropna(thresh=hc,axis=1) 

#Dropping the column
data=data.drop(['date'],axis=1) #date coulmn is not useful
print(data)

data.head(10)

#Creating the heatmap for the feature selection
import seaborn as sn
#data=pd.read_csv("weather-trends.csv")
df = pd.DataFrame(data)
corrMatrix = df.corr()
print(corrMatrix)
ax=sn.heatmap(corrMatrix, cmap=sn.diverging_palette(30, 220, n=200),annot=True)
ax.set_xticklabels(
    ax.get_xticklabels(),
    rotation=45,horizontalalignment='right');
    
#Replacing the NA value with mean value
data['wind_speed']=data['wind_speed'].replace({0:data['wind_speed'].mean()}) 
data['wind_gust']=data['wind_gust'].replace({0:data['wind_gust'].mean()})
data['daily_ra']=data['daily_ra'].replace({0:data['daily_ra'].mean()})
data['monthly_ra']=data['monthly_ra'].replace({0:data['monthly_ra'].mean()})
data['yearly_ra']=data['yearly_ra'].replace({0:data['yearly_ra'].mean()})
print(data)

X = data.iloc[:,[0,1,3,4,5,6,7]].values
Y = data.iloc[:,2].values

#Feature Selection for Regression Models
from sklearn.feature_selection import SelectKBest
from sklearn.feature_selection import chi2
test = SelectKBest(score_func=chi2, k=3)
Y=Y.astype('int')
fit = test.fit(X, Y)
# summarize scores
set_printoptions(precision=3)
print(fit.scores_)

#Assigning the features
X1 = data.iloc[:,[1,3]]
print(X1)

#Assigning the Labels
Y1= data.iloc[:,2]
print(Y1)

#Splitting the test and train data
x_train,x_test,y_train,y_test=train_test_split(X1,Y1,test_size=0.3)
print(x_train)

#Applying the Model
l=LinearRegression()
l.fit(x_train,y_train)
y_pred=l.predict(x_test)

#Calculating the MSE, RMSE, Score of a Model etc
print('Accuracy of Linear Model',l.score(x_test,y_test))
print('MAE:', metrics.mean_absolute_error(y_test, y_pred))  
print('MSE:', metrics.mean_squared_error(y_test, y_pred))  
print('RMSE:', np.sqrt(metrics.mean_squared_error(y_test, y_pred)))
print('Variance score: %.2f' % metrics.r2_score(y_test,y_pred))

#Verifying the actual value and predicted value 
d = pd.DataFrame({'Actual value': y_test, 'Predicted value': y_pred})
d1 = d.head(20)
print(d1)

#Plotting the graph which values are near
import seaborn as sns
sns.set()
sns.regplot(x=y_test, y=y_pred);

#Creating the UI Design
def predictfun(t1,t2):
    arr = []
    arr.append([])
    arr[0].append(float(t1))
    arr[0].append(float(t2))
    arr = np.array(arr,dtype=float)
    print(arr)
    result = l.predict(arr)
    return result;


import pandas as pd

from tkinter import *
window = Tk()
window.title("Weather Trends")
window.geometry('350x200')
#For Label 1
lbl1= Label(window, text="Wind_gust")
lbl1.grid(column=0, row=0)

#For Text Box 1
txt1 = Entry(window,width=10)
txt1.grid(column=1, row=0)

#For Label 2
lbl2= Label(window, text="Humidity")
lbl2.grid(column=0, row=2)

#For Text Box 2
txt2 = Entry(window,width=10)
txt2.grid(column=1, row=2)


#For Label 3
lbl3= Label(window, text="Predicted Output")
lbl3.grid(column=0, row=3)

#For Label 4
output= Label(window, text="Output")
output.grid(column=1, row=3)


#For Text Box 3
#txt3 = Entry(window,width=10)
#txt3.grid(column=1, row=3)


def clicked():
    
    res= predictfun(txt1.get(),txt2.get()); 
    output.configure(text=res)
        
btn = Button(window, text="Check Updated weather", command=clicked)

btn.grid(column=2, row=10)
window.mainloop()
